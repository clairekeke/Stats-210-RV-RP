{
 "cells": [
  {
   "cell_type": "markdown",
   "metadata": {},
   "source": [
    "Name:Shuyi Guan\n",
    "NetID:sg466\n",
    "ID:1447"
   ]
  },
  {
   "cell_type": "code",
   "execution_count": 1,
   "metadata": {},
   "outputs": [],
   "source": [
    "import numpy as np\n",
    "import random\n",
    "import math\n",
    "import pandas as pd\n",
    "import matplotlib.pyplot as plt\n",
    "from scipy.special import perm\n",
    "from scipy.special import comb\n",
    "from scipy.stats import poisson\n",
    "from scipy.stats import binom\n",
    "from scipy.stats import geom"
   ]
  },
  {
   "cell_type": "markdown",
   "metadata": {},
   "source": [
    "# Problem #1"
   ]
  },
  {
   "cell_type": "code",
   "execution_count": 74,
   "metadata": {},
   "outputs": [
    {
     "name": "stdout",
     "output_type": "stream",
     "text": [
      "Joint PMF for XY when x =0 y=0 is estimate: 0.125102 ,true value 0.125\n",
      "Joint PMF for XY when x =0 y=1 is estimate: 0.12509 ,true value 0.125\n",
      "Joint PMF for XY when x =1 y=0 is estimate: 0.250204 ,true value 0.25\n",
      "Joint PMF for XY when x =1 y=1 is estimate: 0.499604 ,true value 0.5\n",
      "Marginal PMF for x when x =0 is estimate: 0.250192 ,true value 0.25\n",
      "Marginal PMF for x when x =1 is estimate 0.749808 ,true value 0.75\n",
      "Marginal PMF for y when y =0 is estimate 0.375306 ,true value 0.375\n",
      "Marginal PMF for y when y =1 is estimate 0.624694 ,true value 0.625\n"
     ]
    }
   ],
   "source": [
    "x=[]\n",
    "y=[]\n",
    "N = 1000000\n",
    "x0_y0=0\n",
    "x0_y1=0\n",
    "x1_y0=0\n",
    "x1_y1=0\n",
    "for n in range(N):\n",
    "    m = np.random.randint(1,9) \n",
    "    if m ==1:\n",
    "        x.append(0)\n",
    "        y.append(0)\n",
    "    elif m ==2:    \n",
    "        x.append(0)\n",
    "        y.append(1)\n",
    "    elif m ==3 or m ==4:\n",
    "        x.append(1)\n",
    "        y.append(0)\n",
    "    else:\n",
    "        x.append(1)\n",
    "        y.append(1)\n",
    "    if x[-1] ==0 and y[-1]==0: \n",
    "        x0_y0+=1\n",
    "    elif x[-1] ==0 and y[-1]==1:\n",
    "        x0_y1+=1\n",
    "    elif x[-1] ==1 and y[-1]==0: \n",
    "        x1_y0+=1\n",
    "    elif x[-1] ==1 and y[-1]==1: \n",
    "        x1_y1+=1\n",
    "x0_y0_joint = x0_y0/N\n",
    "x0_y1_joint = x0_y1/N\n",
    "x1_y0_joint = x1_y0/N\n",
    "x1_y1_joint = x1_y1/N\n",
    "x_0_marginal = x.count(0)/N\n",
    "x_1_marginal = x.count(1)/N\n",
    "y_0_marginal = y.count(0)/N\n",
    "y_1_marginal = y.count(1)/N\n",
    "\n",
    "print('Joint PMF for XY when x =0 y=0 is estimate:', x0_y0_joint,',true value',1/8)\n",
    "print('Joint PMF for XY when x =0 y=1 is estimate:', x0_y1_joint,',true value',1/8)\n",
    "print('Joint PMF for XY when x =1 y=0 is estimate:', x1_y0_joint,',true value',1/4)\n",
    "print('Joint PMF for XY when x =1 y=1 is estimate:', x1_y1_joint,',true value',1/2)\n",
    "print('Marginal PMF for x when x =0 is estimate:', x_0_marginal,',true value',1/4)\n",
    "print('Marginal PMF for x when x =1 is estimate', x_1_marginal,',true value',3/4)\n",
    "print('Marginal PMF for y when y =0 is estimate', y_0_marginal,',true value',3/8)\n",
    "print('Marginal PMF for y when y =1 is estimate', y_1_marginal,',true value',5/8)\n"
   ]
  },
  {
   "cell_type": "markdown",
   "metadata": {},
   "source": [
    "# Problem #2"
   ]
  },
  {
   "cell_type": "code",
   "execution_count": 75,
   "metadata": {},
   "outputs": [
    {
     "name": "stdout",
     "output_type": "stream",
     "text": [
      "The correlation coefficient is  0.14878677386692063\n"
     ]
    }
   ],
   "source": [
    "n = N\n",
    "df = pd.DataFrame({'x':x,'y':y})\n",
    "df['xy'] = df['x']*df['y']\n",
    "df['x_bar']=df['x'].mean()\n",
    "df['y_bar']=df['y'].mean()\n",
    "df['xy_bar'] = df['x_bar']*df['y_bar']\n",
    "df['x_2'] = df['x']**2\n",
    "df['y_2'] = df['y']**2\n",
    "df['x_bar_2'] = df['x_bar']**2\n",
    "df['y_bar_2'] = df['y_bar']**2\n",
    "cov = 1/m * (df['xy']-df['xy_bar']).sum()\n",
    "denom = 1/m * math.sqrt((df['x_2']-df['x_bar_2']).sum()*(df['y_2']-df['y_bar_2']).sum())\n",
    "print('The correlation coefficient is ',cov/denom)"
   ]
  },
  {
   "cell_type": "markdown",
   "metadata": {},
   "source": [
    "## Problem #3"
   ]
  },
  {
   "cell_type": "code",
   "execution_count": 4,
   "metadata": {},
   "outputs": [
    {
     "data": {
      "image/png": "[encoded data removed]",
      "text/plain": [
       "<Figure size 432x288 with 1 Axes>"
      ]
     },
     "metadata": {
      "needs_background": "light"
     },
     "output_type": "display_data"
    }
   ],
   "source": [
    "import matplotlib\n",
    "import matplotlib.pyplot as plt\n",
    "import numpy as np\n",
    "p=1/2\n",
    "N=500000\n",
    "X = np.random.geometric(p,N)\n",
    "Y = np.random.geometric(p,N)\n",
    "Z = X+Y\n",
    "n=20\n",
    "Z_pmf=[]\n",
    "for i in range(2,n+2):\n",
    "    Z_pmf.append((Z == i).sum() / N)\n",
    "k = np.arange(2,n+2,1)    \n",
    "Z_in_formula = (p**2)*(k-1)*((1-p)**(k-2))\n",
    "labels =k\n",
    "\n",
    "# plot\n",
    "x = np.arange(2,n+2,1) \n",
    "width = 0.35  # the width of the bars\n",
    "fig, ax = plt.subplots()\n",
    "rects1 = ax.bar(x - width/2, Z_in_formula, width, label='True PMF',color='cornflowerblue')\n",
    "rects2 = ax.bar(x + width/2, Z_pmf, width, label='Estimate PMF',color='pink')\n",
    "\n",
    "plt.xlabel('Z')\n",
    "plt.ylabel('PMF')\n",
    "plt.title('PMF of Z')\n",
    "ax.set_xticks(x)\n",
    "ax.set_xticklabels(labels)\n",
    "ax.legend()\n",
    "plt.show()"
   ]
  },
  {
   "cell_type": "markdown",
   "metadata": {},
   "source": [
    "## Problem #4"
   ]
  },
  {
   "cell_type": "code",
   "execution_count": 6,
   "metadata": {},
   "outputs": [
    {
     "name": "stderr",
     "output_type": "stream",
     "text": [
      "/anaconda3/lib/python3.7/site-packages/matplotlib/cbook/deprecation.py:107: MatplotlibDeprecationWarning: Adding an axes using the same arguments as a previous axes currently reuses the earlier instance.  In a future version, a new instance will always be created and returned.  Meanwhile, this warning can be suppressed, and the future behavior ensured, by passing a unique label to each axes instance.\n",
      "  warnings.warn(message, mplDeprecation, stacklevel=1)\n"
     ]
    },
    {
     "data": {
      "image/png": "[encoded data removed]",
      "text/plain": [
       "<Figure size 720x288 with 2 Axes>"
      ]
     },
     "metadata": {
      "needs_background": "light"
     },
     "output_type": "display_data"
    }
   ],
   "source": [
    "i_list = np.arange(1,12,1)\n",
    "j_list = np.arange(1,12,1)\n",
    "x,y,xx,yy,w,z =([] for i in range(6))\n",
    "for i in i_list:\n",
    "    x.append(0.95 + (i-1)/100)\n",
    "for j in j_list:\n",
    "    y.append(1.95 + (j-1)/100)\n",
    "plt.figure(figsize=(10, 4))\n",
    "for xx in x:\n",
    "    for yy in y:\n",
    "        plt.subplot(121)\n",
    "        plt.xlabel('x')\n",
    "        plt.ylabel('y')\n",
    "        plt.title('Figure in x-y plane')\n",
    "        plt.ylim(1.9,2.1)\n",
    "        plt.xlim(0.9,1.1)\n",
    "        plt.scatter(xx,yy,c='g')\n",
    "        w.append(xx**2 + 5*yy**2)\n",
    "        z.append(-5*xx**2+ yy**2)\n",
    "        plt.subplot(122)\n",
    "        plt.xlabel('w')\n",
    "        plt.ylabel('z')\n",
    "        plt.title('Figure in w-z plane')\n",
    "        plt.ylim(-2,1)\n",
    "        plt.xlim(19.5,22.5)\n",
    "        plt.scatter(w[-1],z[-1],c='r')      \n",
    "plt.show()\n"
   ]
  },
  {
   "cell_type": "code",
   "execution_count": 8,
   "metadata": {},
   "outputs": [
    {
     "name": "stdout",
     "output_type": "stream",
     "text": [
      "Area 1 = 0.009999999999999995\n",
      "Area 2 = 2.0799999999999996\n",
      "Area ratio = 208.00000000000006\n"
     ]
    }
   ],
   "source": [
    "area_1=(max(x)-min(x))*(max(y)-min(y))\n",
    "print('Area 1 =',area_1)\n",
    "short_side = math.sqrt((w[z.index(min(z))]-min(w))**2+(z[w.index(min(w))]-min(z))**2)\n",
    "long_side = math.sqrt((max(w)-w[z.index(min(z))])**2+(z[w.index(max(w))]-min(z))**2)\n",
    "area_2=short_side*long_side\n",
    "print('Area 2 =',area_2)\n",
    "print('Area ratio =',area_2/area_1)"
   ]
  },
  {
   "cell_type": "markdown",
   "metadata": {},
   "source": [
    "## Problem #5"
   ]
  },
  {
   "cell_type": "code",
   "execution_count": 7,
   "metadata": {},
   "outputs": [
    {
     "data": {
      "image/png": "[encoded data removed]",
      "text/plain": [
       "<Figure size 432x288 with 1 Axes>"
      ]
     },
     "metadata": {
      "needs_background": "light"
     },
     "output_type": "display_data"
    }
   ],
   "source": [
    "N=5000\n",
    "mu = 1\n",
    "sigma=1\n",
    "x_axis = np.arange(1,N,1)\n",
    "mean=[]\n",
    "converge=[1 for n in range(1,N)]\n",
    "for n in range(1,N):\n",
    "    x = np.random.normal(mu, sigma, n)\n",
    "    mean.append(sum(x)/len(x))\n",
    "plt.scatter(x_axis,mean,color='cornflowerblue')\n",
    "plt.plot(x_axis,converge,color='red')\n",
    "plt.title('#5 Nomral Distribution ')\n",
    "plt.xlabel('N')\n",
    "plt.ylabel('Sample mean')\n",
    "plt.show()"
   ]
  },
  {
   "cell_type": "markdown",
   "metadata": {},
   "source": [
    "## Problem #6"
   ]
  },
  {
   "cell_type": "code",
   "execution_count": 9,
   "metadata": {},
   "outputs": [
    {
     "data": {
      "image/png": "[encoded data removed]",
      "text/plain": [
       "<Figure size 432x288 with 1 Axes>"
      ]
     },
     "metadata": {
      "needs_background": "light"
     },
     "output_type": "display_data"
    },
    {
     "data": {
      "image/png": "[encoded data removed]",
      "text/plain": [
       "<Figure size 432x288 with 1 Axes>"
      ]
     },
     "metadata": {
      "needs_background": "light"
     },
     "output_type": "display_data"
    }
   ],
   "source": [
    "N=5000\n",
    "mean_uni=[]\n",
    "mean_norm=[]\n",
    "x_axis = np.arange(1,N,1)\n",
    "converge=[1 for n in range(1,N)]\n",
    "for n in range(1,N):\n",
    "    x_uni = np.random.uniform(0,2,n)\n",
    "    x_norm = np.random.normal(1, 4, n)\n",
    "    mean_uni.append(sum(x_uni)/len(x_uni))\n",
    "    mean_norm.append(sum(x_norm)/len(x_norm))\n",
    "plt.title('#6 Uniform Distribution')\n",
    "plt.scatter(x_axis,mean_uni,color='cornflowerblue')\n",
    "plt.plot(x_axis,converge,'r')\n",
    "plt.ylim(-1,3)\n",
    "plt.xlabel('N')\n",
    "plt.ylabel('Sample mean')\n",
    "plt.show()\n",
    "plt.title('#6 Normal Distribution')\n",
    "plt.scatter(x_axis,mean_norm,color='orange')\n",
    "plt.plot(x_axis,converge,'r')\n",
    "plt.ylim(-1,3)\n",
    "plt.xlabel('N')\n",
    "plt.ylabel('Sample mean')\n",
    "plt.show()"
   ]
  }
 ],
 "metadata": {
  "kernelspec": {
   "display_name": "Python 3",
   "language": "python",
   "name": "python3"
  },
  "language_info": {
   "codemirror_mode": {
    "name": "ipython",
    "version": 3
   },
   "file_extension": ".py",
   "mimetype": "text/x-python",
   "name": "python",
   "nbconvert_exporter": "python",
   "pygments_lexer": "ipython3",
   "version": "3.7.0"
  }
 },
 "nbformat": 4,
 "nbformat_minor": 2
}
